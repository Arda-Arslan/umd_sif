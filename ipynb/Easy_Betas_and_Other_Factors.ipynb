{
 "cells": [
  {
   "cell_type": "markdown",
   "metadata": {},
   "source": [
    "## Calculating Beta (along with some other values)\n",
    "\n",
    "I had some difficulty finding an easy way to calculate Beta values. Given that we need to have low volatility to enter our algorithms into Quantopian's competition, this should be (at least somewhat) helpful to everybody. "
   ]
  },
  {
   "cell_type": "markdown",
   "metadata": {},
   "source": [
    "There is a really good statistical evaluator in the 'Quantopian Lecture Series: Linear Regression'. It looks like this:"
   ]
  },
  {
   "cell_type": "code",
   "execution_count": 11,
   "metadata": {
    "collapsed": true
   },
   "outputs": [],
   "source": [
    "# Import libraries\n",
    "import numpy as np\n",
    "from statsmodels import regression\n",
    "import statsmodels.api as sm\n",
    "import matplotlib.pyplot as plt\n",
    "import math"
   ]
  },
  {
   "cell_type": "code",
   "execution_count": 12,
   "metadata": {
    "collapsed": true
   },
   "outputs": [],
   "source": [
    "# Define the actual linear regression function\n",
    "def linreg(X,Y):\n",
    "    X = sm.add_constant(X)\n",
    "    model = regression.linear_model.OLS(Y, X).fit()\n",
    "    a = model.params[0]\n",
    "    b = model.params[1]\n",
    "    X = X[:, 1]\n",
    "\n",
    "    # Return summary of the regression and plot results\n",
    "    X2 = np.linspace(X.min(), X.max(), 100)\n",
    "    Y_hat = X2 * b + a\n",
    "    plt.scatter(X, Y, alpha=0.3) # Plot the raw data\n",
    "    plt.plot(X2, Y_hat, 'r', alpha=0.9);  # Add the regression line, colored in red\n",
    "    plt.xlabel('X Value')\n",
    "    plt.ylabel('Y Value')\n",
    "    return model.summary()"
   ]
  },
  {
   "cell_type": "code",
   "execution_count": 13,
   "metadata": {},
   "outputs": [
    {
     "data": {
      "text/html": [
       "<table class=\"simpletable\">\n",
       "<caption>OLS Regression Results</caption>\n",
       "<tr>\n",
       "  <th>Dep. Variable:</th>            <td>y</td>        <th>  R-squared:         </th> <td>   0.200</td>\n",
       "</tr>\n",
       "<tr>\n",
       "  <th>Model:</th>                   <td>OLS</td>       <th>  Adj. R-squared:    </th> <td>   0.197</td>\n",
       "</tr>\n",
       "<tr>\n",
       "  <th>Method:</th>             <td>Least Squares</td>  <th>  F-statistic:       </th> <td>   62.36</td>\n",
       "</tr>\n",
       "<tr>\n",
       "  <th>Date:</th>             <td>Thu, 20 Apr 2017</td> <th>  Prob (F-statistic):</th> <td>9.14e-14</td>\n",
       "</tr>\n",
       "<tr>\n",
       "  <th>Time:</th>                 <td>05:03:01</td>     <th>  Log-Likelihood:    </th> <td>  548.44</td>\n",
       "</tr>\n",
       "<tr>\n",
       "  <th>No. Observations:</th>      <td>   251</td>      <th>  AIC:               </th> <td>  -1093.</td>\n",
       "</tr>\n",
       "<tr>\n",
       "  <th>Df Residuals:</th>          <td>   249</td>      <th>  BIC:               </th> <td>  -1086.</td>\n",
       "</tr>\n",
       "<tr>\n",
       "  <th>Df Model:</th>              <td>     1</td>      <th>                     </th>     <td> </td>   \n",
       "</tr>\n",
       "<tr>\n",
       "  <th>Covariance Type:</th>      <td>nonrobust</td>    <th>                     </th>     <td> </td>   \n",
       "</tr>\n",
       "</table>\n",
       "<table class=\"simpletable\">\n",
       "<tr>\n",
       "    <td></td>       <th>coef</th>     <th>std err</th>      <th>t</th>      <th>P>|t|</th> <th>[95.0% Conf. Int.]</th> \n",
       "</tr>\n",
       "<tr>\n",
       "  <th>const</th> <td>    0.0009</td> <td>    0.002</td> <td>    0.539</td> <td> 0.590</td> <td>   -0.002     0.004</td>\n",
       "</tr>\n",
       "<tr>\n",
       "  <th>x1</th>    <td>    1.9253</td> <td>    0.244</td> <td>    7.897</td> <td> 0.000</td> <td>    1.445     2.406</td>\n",
       "</tr>\n",
       "</table>\n",
       "<table class=\"simpletable\">\n",
       "<tr>\n",
       "  <th>Omnibus:</th>       <td>64.190</td> <th>  Durbin-Watson:     </th> <td>   2.006</td>\n",
       "</tr>\n",
       "<tr>\n",
       "  <th>Prob(Omnibus):</th> <td> 0.000</td> <th>  Jarque-Bera (JB):  </th> <td> 368.908</td>\n",
       "</tr>\n",
       "<tr>\n",
       "  <th>Skew:</th>          <td> 0.857</td> <th>  Prob(JB):          </th> <td>7.81e-81</td>\n",
       "</tr>\n",
       "<tr>\n",
       "  <th>Kurtosis:</th>      <td> 8.686</td> <th>  Cond. No.          </th> <td>    141.</td>\n",
       "</tr>\n",
       "</table>"
      ],
      "text/plain": [
       "<class 'statsmodels.iolib.summary.Summary'>\n",
       "\"\"\"\n",
       "                            OLS Regression Results                            \n",
       "==============================================================================\n",
       "Dep. Variable:                      y   R-squared:                       0.200\n",
       "Model:                            OLS   Adj. R-squared:                  0.197\n",
       "Method:                 Least Squares   F-statistic:                     62.36\n",
       "Date:                Thu, 20 Apr 2017   Prob (F-statistic):           9.14e-14\n",
       "Time:                        05:03:01   Log-Likelihood:                 548.44\n",
       "No. Observations:                 251   AIC:                            -1093.\n",
       "Df Residuals:                     249   BIC:                            -1086.\n",
       "Df Model:                           1                                         \n",
       "Covariance Type:            nonrobust                                         \n",
       "==============================================================================\n",
       "                 coef    std err          t      P>|t|      [95.0% Conf. Int.]\n",
       "------------------------------------------------------------------------------\n",
       "const          0.0009      0.002      0.539      0.590        -0.002     0.004\n",
       "x1             1.9253      0.244      7.897      0.000         1.445     2.406\n",
       "==============================================================================\n",
       "Omnibus:                       64.190   Durbin-Watson:                   2.006\n",
       "Prob(Omnibus):                  0.000   Jarque-Bera (JB):              368.908\n",
       "Skew:                           0.857   Prob(JB):                     7.81e-81\n",
       "Kurtosis:                       8.686   Cond. No.                         141.\n",
       "==============================================================================\n",
       "\n",
       "Warnings:\n",
       "[1] Standard Errors assume that the covariance matrix of the errors is correctly specified.\n",
       "\"\"\""
      ]
     },
     "execution_count": 13,
     "metadata": {},
     "output_type": "execute_result"
    },
    {
     "data": {
      "image/png": "[encoded data removed]",
      "text/plain": [
       "<matplotlib.figure.Figure at 0x7f9a9349cad0>"
      ]
     },
     "metadata": {},
     "output_type": "display_data"
    }
   ],
   "source": [
    "# Get our pricing data\n",
    "start = '2014-01-01'\n",
    "end = '2015-01-01'\n",
    "asset = get_pricing('TSLA', fields='price', start_date=start, end_date=end)\n",
    "benchmark = get_pricing('SPY', fields='price', start_date=start, end_date=end)\n",
    "\n",
    "# We have to take the percent changes to get to returns\n",
    "# Get rid of the first (0th) element because it is NAN\n",
    "r_a = asset.pct_change()[1:]\n",
    "r_b = benchmark.pct_change()[1:]\n",
    "\n",
    "linreg(r_b.values, r_a.values)"
   ]
  },
  {
   "cell_type": "markdown",
   "metadata": {},
   "source": [
    "The important numbers here are 9.14e-14 from Prob (F-statistic) and 1.9253 from x1 coef. We want the first number to be very low, at minimum less than .05, so we know there's a statistical significance. If the p value is not less than .05, it's certain that you're looking at things that are just not likely to be predictive in any way, so you should stop pursuing what ever strategy you were doing. The second number is the Beta, how correlated our asset is compared to the benchmark. In this case, TSLA is twice as volatile as SPY. This could be good or bad depending on your strategy. Either way, it's good to know that you can access it easily. "
   ]
  },
  {
   "cell_type": "markdown",
   "metadata": {},
   "source": [
    "A possible issue with the method above however is that you probably don't need all that information plus the pretty graph. The number you're most likely going to need over and over again is Beta so here's a function that will get you just the Beta value. (This one is very similiar to a method from 'Quantopian Lecture Series: The Art of Not Following the Market'. I just changed it so it returns beta since you'll (probably) be more interested with Beta than Alpha here.)"
   ]
  },
  {
   "cell_type": "code",
   "execution_count": 14,
   "metadata": {},
   "outputs": [
    {
     "name": "stdout",
     "output_type": "stream",
     "text": [
      "beta: 1.92533467685\n"
     ]
    }
   ],
   "source": [
    "# Let's define everything in familiar regression terms\n",
    "X = r_b.values # Get just the values, ignore the timestamps\n",
    "Y = r_a.values\n",
    "\n",
    "def linregbeta(x,y):\n",
    "    # We add a constant so that we can also fit an intercept (alpha) to the model\n",
    "    # This just adds a column of 1s to our data\n",
    "    x = sm.add_constant(x)\n",
    "    model = regression.linear_model.OLS(y,x).fit()\n",
    "    # Remove the constant now that we're done\n",
    "    x = x[:, 1]\n",
    "    return model.params[1]  # , model.params[0]  <-- include this if you also want alpha\n",
    "\n",
    "beta = linregbeta(X,Y)\n",
    "print 'beta: ' + str(beta)"
   ]
  },
  {
   "cell_type": "markdown",
   "metadata": {},
   "source": [
    "Notice that the value are the same as before, so this function works."
   ]
  },
  {
   "cell_type": "markdown",
   "metadata": {},
   "source": [
    "Of course, this will also work with a list of tickers so you can evaluate a bunch of stocks very quickly. Here's an example."
   ]
  },
  {
   "cell_type": "code",
   "execution_count": null,
   "metadata": {},
   "outputs": [
    {
     "name": "stdout",
     "output_type": "stream",
     "text": [
      "beta: [ 1.92533468  0.9879742   1.25462463  0.9599409   1.26415886]\n"
     ]
    }
   ],
   "source": [
    "# Same idea, but this time we'll show that the function works with a list of companies\n",
    "# SPY data stays the same so we won't touch that here\n",
    "\n",
    "companies = ['TSLA', 'GE', 'TOT', 'MSFT', 'C']\n",
    "assets = get_pricing(companies, fields='price', start_date=start, end_date=end)\n",
    "\n",
    "# Change to % change\n",
    "assets_pct_chng = assets.pct_change()[1:]\n",
    "\n",
    "# Let's define everything in familiar regression terms\n",
    "Y = assets_pct_chng.values # Get just the values, ignore the timestamps\n",
    "\n",
    "beta = linregbeta(X,Y)\n",
    "print 'beta: ' + str(beta)"
   ]
  },
  {
   "cell_type": "markdown",
   "metadata": {},
   "source": [
    "Wow, that was easy. Hopefully you guys will find this useful in minimizing Beta in future applications."
   ]
  }
 ],
 "metadata": {
  "kernelspec": {
   "display_name": "Python 3",
   "language": "python",
   "name": "python3"
  },
  "language_info": {
   "codemirror_mode": {
    "name": "ipython",
    "version": 3
   },
   "file_extension": ".py",
   "mimetype": "text/x-python",
   "name": "python",
   "nbconvert_exporter": "python",
   "pygments_lexer": "ipython3",
   "version": "3.6.1"
  }
 },
 "nbformat": 4,
 "nbformat_minor": 2
}
